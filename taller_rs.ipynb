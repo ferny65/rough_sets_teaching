{
 "cells": [
  {
   "cell_type": "markdown",
   "metadata": {},
   "source": [
    "# Taller Introducción a los Rough Sets"
   ]
  },
  {
   "cell_type": "code",
   "execution_count": 2,
   "metadata": {},
   "outputs": [
    {
     "name": "stdout",
     "output_type": "stream",
     "text": [
      "\n",
      "The downloaded binary packages are in\n",
      "\t/var/folders/yq/60vw1xnj6qs31p42xc4gj3bm0000gn/T//RtmpVzcW0P/downloaded_packages\n"
     ]
    }
   ],
   "source": [
    "#Instalar paquete RoughSets en R\n",
    "install.packages(\"RoughSets\")"
   ]
  },
  {
   "cell_type": "code",
   "execution_count": 3,
   "metadata": {},
   "outputs": [
    {
     "name": "stderr",
     "output_type": "stream",
     "text": [
      "Loading required package: Rcpp\n",
      "Warning message:\n",
      "“package ‘Rcpp’ was built under R version 3.4.2”"
     ]
    }
   ],
   "source": [
    "#Poner en uso librería RoughSets en R\n",
    "library(RoughSets)"
   ]
  },
  {
   "cell_type": "code",
   "execution_count": 4,
   "metadata": {},
   "outputs": [],
   "source": [
    "#Establecer carpeta de trabajo en R\n",
    "setwd(\"/Volumes/Users/Usuarios/fernandolopez/Dropbox/CONFERENCIA COLOMBIA/ROUGH SET WORKSHOP/DATA\")"
   ]
  },
  {
   "cell_type": "code",
   "execution_count": 33,
   "metadata": {},
   "outputs": [],
   "source": [
    "#Definir nombre de fichero de datos (se debe encontrar dentro de la carpeta de trabajo)\n",
    "dataFile<-\"injured_example.csv\"\n",
    "#Importar datos de una Tabla de decisión en R usando la función SF.read.DecisionTable que devuelve objeto DecisionTable\n",
    "#Ver detalles en documentación del paquete RoughSets\n",
    "dt<-SF.read.DecisionTable(dataFile, decision.attr = 3, indx.nominal = c(1,2),sep=\",\", header=TRUE)"
   ]
  },
  {
   "cell_type": "code",
   "execution_count": 24,
   "metadata": {},
   "outputs": [
    {
     "name": "stdout",
     "output_type": "stream",
     "text": [
      "Classes ‘DecisionTable’ and 'data.frame':\t7 obs. of  3 variables:\n",
      " $ Age : Factor w/ 3 levels \"16-30\",\"31-45\",..: 1 1 2 2 3 1 3\n",
      " $ LEMS: Factor w/ 5 levels \"0\",\"1-25\",\"26-29\",..: 5 1 2 2 3 4 4\n",
      " $ Walk: Factor w/ 2 levels \"No\",\"Yes\": 2 1 1 2 1 2 1\n",
      " - attr(*, \"nominal.attrs\")= logi  TRUE TRUE TRUE\n",
      " - attr(*, \"desc.attrs\")=List of 3\n",
      "  ..$ Age : chr  \"16-30\" \"31-45\" \"46-60\"\n",
      "  ..$ LEMS: chr  \"0\" \"1-25\" \"26-29\" \"26-49\" ...\n",
      "  ..$ Walk: chr  \"No\" \"Yes\"\n",
      " - attr(*, \"decision.attr\")= num 3\n"
     ]
    }
   ],
   "source": [
    "#Visualizar estructura de la tabla de decisión\n",
    "str(dt)"
   ]
  },
  {
   "cell_type": "code",
   "execution_count": 34,
   "metadata": {},
   "outputs": [
    {
     "data": {
      "text/html": [
       "<table>\n",
       "<thead><tr><th scope=col>Age</th><th scope=col>LEMS</th><th scope=col>Walk</th></tr></thead>\n",
       "<tbody>\n",
       "\t<tr><td>16-30</td><td>50   </td><td>Yes  </td></tr>\n",
       "\t<tr><td>16-30</td><td>0    </td><td>No   </td></tr>\n",
       "\t<tr><td>31-45</td><td>1-25 </td><td>No   </td></tr>\n",
       "\t<tr><td>31-45</td><td>1-25 </td><td>Yes  </td></tr>\n",
       "\t<tr><td>46-60</td><td>26-49</td><td>No   </td></tr>\n",
       "\t<tr><td>16-30</td><td>26-49</td><td>Yes  </td></tr>\n",
       "\t<tr><td>46-60</td><td>26-49</td><td>No   </td></tr>\n",
       "</tbody>\n",
       "</table>\n"
      ],
      "text/latex": [
       "\\begin{tabular}{r|lll}\n",
       " Age & LEMS & Walk\\\\\n",
       "\\hline\n",
       "\t 16-30 & 50    & Yes  \\\\\n",
       "\t 16-30 & 0     & No   \\\\\n",
       "\t 31-45 & 1-25  & No   \\\\\n",
       "\t 31-45 & 1-25  & Yes  \\\\\n",
       "\t 46-60 & 26-49 & No   \\\\\n",
       "\t 16-30 & 26-49 & Yes  \\\\\n",
       "\t 46-60 & 26-49 & No   \\\\\n",
       "\\end{tabular}\n"
      ],
      "text/markdown": [
       "\n",
       "Age | LEMS | Walk | \n",
       "|---|---|---|---|---|---|---|\n",
       "| 16-30 | 50    | Yes   | \n",
       "| 16-30 | 0     | No    | \n",
       "| 31-45 | 1-25  | No    | \n",
       "| 31-45 | 1-25  | Yes   | \n",
       "| 46-60 | 26-49 | No    | \n",
       "| 16-30 | 26-49 | Yes   | \n",
       "| 46-60 | 26-49 | No    | \n",
       "\n",
       "\n"
      ],
      "text/plain": [
       "  Age   LEMS  Walk\n",
       "1 16-30 50    Yes \n",
       "2 16-30 0     No  \n",
       "3 31-45 1-25  No  \n",
       "4 31-45 1-25  Yes \n",
       "5 46-60 26-49 No  \n",
       "6 16-30 26-49 Yes \n",
       "7 46-60 26-49 No  "
      ]
     },
     "metadata": {},
     "output_type": "display_data"
    }
   ],
   "source": [
    "#Visualizar tabla de decisión\n",
    "dt"
   ]
  },
  {
   "cell_type": "code",
   "execution_count": 39,
   "metadata": {},
   "outputs": [
    {
     "name": "stdout",
     "output_type": "stream",
     "text": [
      "List of 3\n",
      " $ IND.relation :List of 3\n",
      "  ..$ 16-30: int [1:3] 1 2 6\n",
      "  ..$ 31-45: int [1:2] 3 4\n",
      "  ..$ 46-60: int [1:2] 5 7\n",
      " $ type.relation: chr \"equivalence\"\n",
      " $ type.model   : chr \"RST\"\n",
      " - attr(*, \"class\")= chr [1:2] \"IndiscernibilityRelation\" \"list\"\n"
     ]
    }
   ],
   "source": [
    "#Relación de indescirnibilidad del atributo Age\n",
    "relAge<-BC.IND.relation.RST(dt, feature.set = 1)\n",
    "#Mostrar estructura de la relación de indescirnibilidad del atributo Age\n",
    "str(relAge)"
   ]
  },
  {
   "cell_type": "code",
   "execution_count": null,
   "metadata": {},
   "outputs": [],
   "source": [
    "#Relación de indescirnibilidad del atributo LEMS\n",
    "relLEMS<-?\n",
    "#Moatrar estructura de la relación de indescirnibilidad del atributo LEMS"
   ]
  },
  {
   "cell_type": "code",
   "execution_count": null,
   "metadata": {},
   "outputs": [],
   "source": [
    "#Relación de indescirnibilidad del atributo de decisión Walk\n",
    "relWalk<-?\n",
    "#Moatrar estructura de la relación de indescirnibilidad del atributo de decisión WALK"
   ]
  },
  {
   "cell_type": "code",
   "execution_count": 35,
   "metadata": {},
   "outputs": [
    {
     "name": "stdout",
     "output_type": "stream",
     "text": [
      "List of 3\n",
      " $ IND.relation :List of 5\n",
      "  ..$ 16-30 0    : int 2\n",
      "  ..$ 16-30 26-49: int 6\n",
      "  ..$ 16-30 50   : int 1\n",
      "  ..$ 31-45 1-25 : int [1:2] 3 4\n",
      "  ..$ 46-60 26-49: int [1:2] 5 7\n",
      " $ type.relation: chr \"equivalence\"\n",
      " $ type.model   : chr \"RST\"\n",
      " - attr(*, \"class\")= chr [1:2] \"IndiscernibilityRelation\" \"list\"\n"
     ]
    }
   ],
   "source": [
    "#Calcular Relación de discernibilidad de la tabla de decisión\n",
    "relTD<-BC.IND.relation.RST(dt, feature.set = NULL)\n",
    "#Visualizar estructura de la relación de incescirnibilidad de la tabla de decisión\n",
    "str(relTD)"
   ]
  },
  {
   "cell_type": "code",
   "execution_count": 36,
   "metadata": {},
   "outputs": [
    {
     "data": {
      "text/html": [
       "<dl>\n",
       "\t<dt>$IND.relation</dt>\n",
       "\t\t<dd><dl>\n",
       "\t<dt>$`16-30 0`</dt>\n",
       "\t\t<dd>2</dd>\n",
       "\t<dt>$`16-30 26-49`</dt>\n",
       "\t\t<dd>6</dd>\n",
       "\t<dt>$`16-30 50`</dt>\n",
       "\t\t<dd>1</dd>\n",
       "\t<dt>$`31-45 1-25`</dt>\n",
       "\t\t<dd><ol class=list-inline>\n",
       "\t<li>3</li>\n",
       "\t<li>4</li>\n",
       "</ol>\n",
       "</dd>\n",
       "\t<dt>$`46-60 26-49`</dt>\n",
       "\t\t<dd><ol class=list-inline>\n",
       "\t<li>5</li>\n",
       "\t<li>7</li>\n",
       "</ol>\n",
       "</dd>\n",
       "</dl>\n",
       "</dd>\n",
       "\t<dt>$type.relation</dt>\n",
       "\t\t<dd>'equivalence'</dd>\n",
       "\t<dt>$type.model</dt>\n",
       "\t\t<dd>'RST'</dd>\n",
       "</dl>\n"
      ],
      "text/latex": [
       "\\begin{description}\n",
       "\\item[\\$IND.relation] \\begin{description}\n",
       "\\item[\\$`16-30 0`] 2\n",
       "\\item[\\$`16-30 26-49`] 6\n",
       "\\item[\\$`16-30 50`] 1\n",
       "\\item[\\$`31-45 1-25`] \\begin{enumerate*}\n",
       "\\item 3\n",
       "\\item 4\n",
       "\\end{enumerate*}\n",
       "\n",
       "\\item[\\$`46-60 26-49`] \\begin{enumerate*}\n",
       "\\item 5\n",
       "\\item 7\n",
       "\\end{enumerate*}\n",
       "\n",
       "\\end{description}\n",
       "\n",
       "\\item[\\$type.relation] 'equivalence'\n",
       "\\item[\\$type.model] 'RST'\n",
       "\\end{description}\n"
      ],
      "text/markdown": [
       "$IND.relation\n",
       ":   $`16-30 0`\n",
       ":   2\n",
       "$`16-30 26-49`\n",
       ":   6\n",
       "$`16-30 50`\n",
       ":   1\n",
       "$`31-45 1-25`\n",
       ":   1. 3\n",
       "2. 4\n",
       "\n",
       "\n",
       "\n",
       "$`46-60 26-49`\n",
       ":   1. 5\n",
       "2. 7\n",
       "\n",
       "\n",
       "\n",
       "\n",
       "\n",
       "\n",
       "$type.relation\n",
       ":   'equivalence'\n",
       "$type.model\n",
       ":   'RST'\n",
       "\n",
       "\n"
      ],
      "text/plain": [
       "$IND.relation\n",
       "$IND.relation$`16-30 0`\n",
       "[1] 2\n",
       "\n",
       "$IND.relation$`16-30 26-49`\n",
       "[1] 6\n",
       "\n",
       "$IND.relation$`16-30 50`\n",
       "[1] 1\n",
       "\n",
       "$IND.relation$`31-45 1-25`\n",
       "[1] 3 4\n",
       "\n",
       "$IND.relation$`46-60 26-49`\n",
       "[1] 5 7\n",
       "\n",
       "\n",
       "$type.relation\n",
       "[1] \"equivalence\"\n",
       "\n",
       "$type.model\n",
       "[1] \"RST\"\n",
       "\n",
       "attr(,\"class\")\n",
       "[1] \"IndiscernibilityRelation\" \"list\"                    "
      ]
     },
     "metadata": {},
     "output_type": "display_data"
    }
   ],
   "source": [
    "#Visualizar relación de indescirnibilidad\n",
    "relTD"
   ]
  },
  {
   "cell_type": "code",
   "execution_count": null,
   "metadata": {},
   "outputs": [],
   "source": []
  }
 ],
 "metadata": {
  "kernelspec": {
   "display_name": "R",
   "language": "R",
   "name": "ir"
  },
  "language_info": {
   "codemirror_mode": "r",
   "file_extension": ".r",
   "mimetype": "text/x-r-source",
   "name": "R",
   "pygments_lexer": "r",
   "version": "3.4.1"
  }
 },
 "nbformat": 4,
 "nbformat_minor": 2
}
